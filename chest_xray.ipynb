{
  "nbformat": 4,
  "nbformat_minor": 0,
  "metadata": {
    "colab": {
      "name": "chest_xray.ipynb",
      "provenance": [],
      "collapsed_sections": []
    },
    "kernelspec": {
      "name": "python3",
      "display_name": "Python 3"
    },
    "language_info": {
      "name": "python"
    },
    "accelerator": "GPU"
  },
  "cells": [
    {
      "cell_type": "markdown",
      "metadata": {
        "id": "XHNyMbAY0QB5"
      },
      "source": [
        "Name: Celine Ratulowski\n",
        "Date: 04/13/2021\n",
        "\n",
        "## Problem Description:\n",
        "In this problem, I will utilize a dataset of chest x-ray images to help learn how to diagnose pneumonia. We will try to diagnose as many images as possible correctly. \n",
        "\n"
      ]
    },
    {
      "cell_type": "code",
      "metadata": {
        "id": "QufpI-C83So1",
        "colab": {
          "base_uri": "https://localhost:8080/"
        },
        "outputId": "fa7d860d-4cba-4316-f539-dd96bc853d65"
      },
      "source": [
        "%tensorflow_version 2.x\n",
        "import tensorflow as tf\n",
        "device_name = tf.test.gpu_device_name()\n",
        "if device_name != '/device:GPU:0':\n",
        "    raise SystemError('GPU device not found')\n",
        "print('Found GPU at: {}'.format(device_name))\n"
      ],
      "execution_count": null,
      "outputs": [
        {
          "output_type": "stream",
          "text": [
            "Found GPU at: /device:GPU:0\n"
          ],
          "name": "stdout"
        }
      ]
    },
    {
      "cell_type": "code",
      "metadata": {
        "id": "CC3dyS7r4Kev",
        "colab": {
          "base_uri": "https://localhost:8080/"
        },
        "outputId": "00b91f06-cd4f-4b46-909b-c1add17c0f28"
      },
      "source": [
        "import keras\n",
        "print (\"TensorFlow version: \" + tf.__version__)\n",
        "print (\"Keras version: \" + keras.__version__)"
      ],
      "execution_count": null,
      "outputs": [
        {
          "output_type": "stream",
          "text": [
            "TensorFlow version: 2.4.1\n",
            "Keras version: 2.4.3\n"
          ],
          "name": "stdout"
        }
      ]
    },
    {
      "cell_type": "code",
      "metadata": {
        "id": "9TyLjTVU0MQr",
        "colab": {
          "base_uri": "https://localhost:8080/"
        },
        "outputId": "95daa765-35a3-4e1b-8575-6163cb830eb3"
      },
      "source": [
        "import sys\n",
        "from matplotlib import pyplot\n",
        "from keras.utils import to_categorical\n",
        "from keras.models import Sequential\n",
        "from keras.layers import Conv2D\n",
        "from keras.layers import MaxPooling2D\n",
        "from keras.layers import Dense\n",
        "from keras.layers import Flatten\n",
        "from keras.optimizers import SGD\n",
        "from keras.preprocessing.image import ImageDataGenerator\n",
        "import sys\n",
        "\n",
        "## Connect to Drive\n",
        "from google.colab import drive\n",
        "import pandas\n",
        "drive.mount('/content/drive')\n",
        "\n",
        "## Image dimensions\n",
        "img_width = 200\n",
        "img_height = 200\n",
        "\n",
        "## Directories for testing and training data\n",
        "train_data_dir = '/content/drive/MyDrive/Machine Learning/chest_xray/train' \n",
        "test_data_dir = '/content/drive/MyDrive/Machine Learning/chest_xray/test'\n",
        "\n",
        "## To feed the training images to the neural network in batches of 32 images at a time\n",
        "batch_size = 32\n",
        "\n",
        "## Rescale pixel values from [0, 255] to between 0 and 1\n",
        "datagen = ImageDataGenerator(rescale=1.0/255.0)\n",
        "\n",
        "## Look for training and testing data and figure out the class of each example based on subfolder\n",
        "train_data = datagen.flow_from_directory(\n",
        "        train_data_dir,\n",
        "        target_size=(img_width, img_height),\n",
        "        batch_size=batch_size,\n",
        "        class_mode='binary')\n",
        "\n",
        "test_data = datagen.flow_from_directory(\n",
        "        test_data_dir,\n",
        "        target_size=(img_width, img_height),\n",
        "        batch_size=batch_size,\n",
        "        class_mode='binary')"
      ],
      "execution_count": null,
      "outputs": [
        {
          "output_type": "stream",
          "text": [
            "Mounted at /content/drive\n",
            "Found 5236 images belonging to 2 classes.\n",
            "Found 624 images belonging to 2 classes.\n"
          ],
          "name": "stdout"
        }
      ]
    },
    {
      "cell_type": "code",
      "metadata": {
        "id": "t_i-Cfa41ZvU"
      },
      "source": [
        "# Build your CNN here\n",
        "# CNN structure that includes at least 2 convolutional and 2 pooling layers\n",
        "#create empty model\n",
        "model = Sequential()\n",
        "\n",
        "#add 2 convolutional layers & 2 pooling layers\n",
        "model.add(Conv2D(32, (3, 3), activation = 'relu', input_shape=(img_width, img_height, 3)))\n",
        "model.add(MaxPooling2D(pool_size=(2, 2)))\n",
        "\n",
        "model.add(Conv2D(32, (3, 3), activation = 'relu'))\n",
        "model.add(MaxPooling2D(pool_size=(2, 2)))\n",
        "\n",
        "\n",
        "\n",
        "\n",
        "#flattens thelayers so it can go into a fully-connected layer\n",
        "model.add(Flatten())\n",
        "#fully connected layer\n",
        "model.add(Dense(32, activation='relu'))\n",
        "model.add(Dense(1, activation='sigmoid'))\n",
        "\n",
        "\n",
        "opt = SGD(lr=0.001, momentum=0.9)\n",
        "model.compile(optimizer=opt, loss='binary_crossentropy', metrics=['accuracy'])"
      ],
      "execution_count": null,
      "outputs": []
    },
    {
      "cell_type": "code",
      "metadata": {
        "colab": {
          "base_uri": "https://localhost:8080/"
        },
        "id": "S1PuvuanqplW",
        "outputId": "b20005bf-aeb7-4479-8ef1-75572ddd30d5"
      },
      "source": [
        "#train the model\n",
        "#you will want to change the epochs to something small enough to run on your computer\n",
        "training_results =model.fit_generator(\n",
        "    train_data,\n",
        "    steps_per_epoch = len(train_data),\n",
        "    epochs=7, #number of epochs\n",
        "    validation_data = test_data,\n",
        "    validation_steps = len(test_data)\n",
        ")"
      ],
      "execution_count": null,
      "outputs": [
        {
          "output_type": "stream",
          "text": [
            "/usr/local/lib/python3.7/dist-packages/tensorflow/python/keras/engine/training.py:1844: UserWarning: `Model.fit_generator` is deprecated and will be removed in a future version. Please use `Model.fit`, which supports generators.\n",
            "  warnings.warn('`Model.fit_generator` is deprecated and '\n"
          ],
          "name": "stderr"
        },
        {
          "output_type": "stream",
          "text": [
            "Epoch 1/7\n",
            "164/164 [==============================] - 14s 83ms/step - loss: 0.5043 - accuracy: 0.7706 - val_loss: 0.8328 - val_accuracy: 0.6859\n",
            "Epoch 2/7\n",
            "164/164 [==============================] - 13s 82ms/step - loss: 0.1941 - accuracy: 0.9162 - val_loss: 0.9756 - val_accuracy: 0.7051\n",
            "Epoch 3/7\n",
            "164/164 [==============================] - 13s 82ms/step - loss: 0.1788 - accuracy: 0.9317 - val_loss: 0.4891 - val_accuracy: 0.7965\n",
            "Epoch 4/7\n",
            "164/164 [==============================] - 13s 79ms/step - loss: 0.1837 - accuracy: 0.9320 - val_loss: 0.4392 - val_accuracy: 0.8093\n",
            "Epoch 5/7\n",
            "164/164 [==============================] - 13s 78ms/step - loss: 0.1339 - accuracy: 0.9453 - val_loss: 0.3887 - val_accuracy: 0.8381\n",
            "Epoch 6/7\n",
            "164/164 [==============================] - 13s 79ms/step - loss: 0.1722 - accuracy: 0.9399 - val_loss: 0.5152 - val_accuracy: 0.7981\n",
            "Epoch 7/7\n",
            "164/164 [==============================] - 13s 78ms/step - loss: 0.1313 - accuracy: 0.9481 - val_loss: 0.9406 - val_accuracy: 0.7308\n"
          ],
          "name": "stdout"
        }
      ]
    },
    {
      "cell_type": "code",
      "metadata": {
        "colab": {
          "base_uri": "https://localhost:8080/",
          "height": 312
        },
        "id": "M39Z8unAqovt",
        "outputId": "82186255-eb26-4c99-90c7-ceeaddb125d9"
      },
      "source": [
        "import matplotlib.pyplot as plt\n",
        "%matplotlib inline\n",
        "plt.plot(training_results.history['accuracy'])#training accuracy\n",
        "plt.plot(training_results.history['val_accuracy'])\n",
        "plt.title('model accuracy')\n",
        "plt.ylabel('accuracy')\n",
        "plt.xlabel('epoch')\n",
        "plt.legend(['train','test'], loc='upper left')\n"
      ],
      "execution_count": null,
      "outputs": [
        {
          "output_type": "execute_result",
          "data": {
            "text/plain": [
              "<matplotlib.legend.Legend at 0x7f4d801f1c10>"
            ]
          },
          "metadata": {
            "tags": []
          },
          "execution_count": 15
        },
        {
          "output_type": "display_data",
          "data": {
            "image/png": "[encoded data removed]",
            "text/plain": [
              "<Figure size 432x288 with 1 Axes>"
            ]
          },
          "metadata": {
            "tags": [],
            "needs_background": "light"
          }
        }
      ]
    },
    {
      "cell_type": "markdown",
      "metadata": {
        "id": "HYfupxsj9ZPU"
      },
      "source": [
        "The model stops improving (overfitting occurs) at 4 epochs."
      ]
    },
    {
      "cell_type": "code",
      "metadata": {
        "id": "fRFxhtGcxaKq"
      },
      "source": [
        "#altered CNN\n",
        "model2 = Sequential()\n",
        "\n",
        "#add 2 convolutional layers & 2 pooling layers\n",
        "model2.add(Conv2D(32, (3, 3), activation = 'relu', input_shape=(img_width, img_height, 3)))\n",
        "model2.add(MaxPooling2D(pool_size=(2, 2)))\n",
        "\n",
        "model2.add(Conv2D(32, (3, 3), activation = 'relu'))\n",
        "model2.add(MaxPooling2D(pool_size=(2, 2)))\n",
        "\n",
        "#Added extra convolutional layers\n",
        "model2.add(Conv2D(32, (3, 3), activation = 'relu'))\n",
        "\n",
        "model2.add(Flatten())\n",
        "#fully connected layer \n",
        "model2.add(Dense(32, activation='relu'))\n",
        "model2.add(Dense(1, activation='sigmoid'))\n",
        "\n",
        "\n",
        "opt = SGD(lr=0.001, momentum=0.9)\n",
        "model2.compile(optimizer=opt, loss='binary_crossentropy', metrics=['accuracy'])\n"
      ],
      "execution_count": null,
      "outputs": []
    },
    {
      "cell_type": "markdown",
      "metadata": {
        "id": "zUo-l2klxcAX"
      },
      "source": [
        "I added an extra concolutional layer to change this CNN.\n"
      ]
    },
    {
      "cell_type": "code",
      "metadata": {
        "colab": {
          "base_uri": "https://localhost:8080/"
        },
        "id": "PcGAMkp3yU6a",
        "outputId": "1f242125-8c93-4b8a-bbed-5d81a349dac8"
      },
      "source": [
        "#train the new model\n",
        "training_results2 = model2.fit_generator(\n",
        "    train_data,\n",
        "    steps_per_epoch = len(train_data),\n",
        "    epochs=7, #number of epochs\n",
        "    validation_data = test_data,\n",
        "    validation_steps = len(test_data)\n",
        ")"
      ],
      "execution_count": null,
      "outputs": [
        {
          "output_type": "stream",
          "text": [
            "/usr/local/lib/python3.7/dist-packages/tensorflow/python/keras/engine/training.py:1844: UserWarning: `Model.fit_generator` is deprecated and will be removed in a future version. Please use `Model.fit`, which supports generators.\n",
            "  warnings.warn('`Model.fit_generator` is deprecated and '\n"
          ],
          "name": "stderr"
        },
        {
          "output_type": "stream",
          "text": [
            "Epoch 1/7\n",
            "164/164 [==============================] - 13s 79ms/step - loss: 0.5376 - accuracy: 0.7480 - val_loss: 0.7233 - val_accuracy: 0.6571\n",
            "Epoch 2/7\n",
            "164/164 [==============================] - 13s 79ms/step - loss: 0.2188 - accuracy: 0.9177 - val_loss: 0.4389 - val_accuracy: 0.8045\n",
            "Epoch 3/7\n",
            "164/164 [==============================] - 13s 79ms/step - loss: 0.1573 - accuracy: 0.9394 - val_loss: 0.7657 - val_accuracy: 0.7484\n",
            "Epoch 4/7\n",
            "164/164 [==============================] - 13s 79ms/step - loss: 0.1514 - accuracy: 0.9419 - val_loss: 1.0269 - val_accuracy: 0.7067\n",
            "Epoch 5/7\n",
            "164/164 [==============================] - 13s 78ms/step - loss: 0.1371 - accuracy: 0.9487 - val_loss: 0.5142 - val_accuracy: 0.8077\n",
            "Epoch 6/7\n",
            "164/164 [==============================] - 13s 79ms/step - loss: 0.1464 - accuracy: 0.9414 - val_loss: 0.8865 - val_accuracy: 0.7276\n",
            "Epoch 7/7\n",
            "164/164 [==============================] - 13s 78ms/step - loss: 0.1370 - accuracy: 0.9454 - val_loss: 0.9798 - val_accuracy: 0.7276\n"
          ],
          "name": "stdout"
        }
      ]
    },
    {
      "cell_type": "code",
      "metadata": {
        "colab": {
          "base_uri": "https://localhost:8080/",
          "height": 295
        },
        "id": "gSMr9oQ-7Gz0",
        "outputId": "cd24d37b-3be9-4224-bd6f-7d9337fb07a4"
      },
      "source": [
        "import matplotlib.pyplot as plt\n",
        "%matplotlib inline\n",
        "plt.plot(training_results2.history['accuracy'])\n",
        "plt.plot(training_results2.history['val_accuracy'])\n",
        "plt.title('model accuracy')\n",
        "plt.ylabel('accuracy')\n",
        "plt.xlabel('epoch')\n",
        "plt.legend(['train','test'], loc='upper left')\n",
        "plt.show()"
      ],
      "execution_count": null,
      "outputs": [
        {
          "output_type": "display_data",
          "data": {
            "image/png": "[encoded data removed]",
            "text/plain": [
              "<Figure size 432x288 with 1 Axes>"
            ]
          },
          "metadata": {
            "tags": [],
            "needs_background": "light"
          }
        }
      ]
    },
    {
      "cell_type": "markdown",
      "metadata": {
        "id": "HJbpk5Kk9hrQ"
      },
      "source": [
        "The model stops worsens past 1 epoch, but peach again at 4 epochs. After this, the model consistently worsens."
      ]
    },
    {
      "cell_type": "markdown",
      "metadata": {
        "id": "aWZicyw596x_"
      },
      "source": [
        "-What configuration of your CNN proved to be more accurate? Why do you think this is the case?\n",
        "\n",
        "The first configuration of my CNN proved to be the best because the accuracy of the test data constantly increached until it reached 4 epochs. The second model was worse because there was a large drop in accuracy between 1 and 4 epochs. The max accuracy was also higher in the first model than the second. \n",
        "\n",
        "-How accurate can you make your CNN predictor? I will award a bonus point to the student who can achieve the most accurate model.\n",
        "\n",
        "The most accurate I can make my model is about 85% accuracy."
      ]
    }
  ]
}